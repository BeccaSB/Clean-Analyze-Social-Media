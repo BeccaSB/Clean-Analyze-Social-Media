{
 "cells": [
  {
   "cell_type": "markdown",
   "id": "cea8ca17-7c55-47e4-b42d-6f31738d0a50",
   "metadata": {},
   "source": [
    "# Clean & Analyze Social Media\n",
    "\n",
    "**Introduction**\n",
    "\n",
    "Social media has become a ubiquitous part of modern life, with platforms such as Instagram, Twitter, and Facebook serving as essential communication channels. Social media data sets are vast and complex, making analysis a challenging task for businesses and researchers alike. In this project, we explore a simulated social media, specifically Tweets, data set to understand trends in likes across different categories.\n",
    "\n",
    "\n",
    "**Prerequisites**\n",
    "\n",
    "To follow along with this project, you should have a basic understanding of Python programming and data analysis concepts. Familiarity with the Pandas and Matplotlib libraries will also be helpful.\n",
    "\n",
    "\n",
    "**Project Scope**\n",
    "\n",
    "The objective of this project is to analyze tweets and gain insights into user engagement. We will explore the data set using visualization techniques to understand the distribution of likes across different categories. Finally, we will analyze the data to draw conclusions about the most popular categories and the overall engagement on the platform.\n",
    "\n",
    "**Step 1: Importing Required Libraries**\n",
    "\n",
    "As the name suggests, the first step is to import all the necessary libraries that will be used in the project. In this case, we need pandas, numpy, matplotlib, seaborn, and random libraries.\n",
    "\n",
    "Pandas is a library used for data manipulation and analysis. Numpy is a library used for numerical computations. Matplotlib is a library used for data visualization. Seaborn is a library used for statistical data visualization. Random is a library used to generate random numbers."
   ]
  },
  {
   "cell_type": "code",
   "execution_count": 6,
   "id": "a1d0346a-cb07-474a-af2f-0e786ac8cc15",
   "metadata": {
    "tags": []
   },
   "outputs": [],
   "source": [
    "# Import necessary libraries\n",
    "import pandas as pd\n",
    "import numpy as np\n",
    "import matplotlib.pyplot as plt\n",
    "import seaborn as sns\n",
    "import random"
   ]
  },
  {
   "cell_type": "markdown",
   "id": "a18f7ddc-c23e-4c37-b274-66c612668a1d",
   "metadata": {},
   "source": [
    "**Step 2: Generating Random Data**\n",
    "\n",
    "The second step is to generate random data for the social media data. In this example, we have chosen to generate data for eight categories: 'Food', 'Travel', 'Fashion', 'Fitness', 'Music', 'Culture', 'Family', and 'Health'. Here, we have created a list of categories and used it to generate random data for 500 rows. We have used the pd.date_range() function to create a range of dates starting from '2021-01-01' and lasting for 500 periods. The 'Category' column is filled with randomly chosen categories from the list of categories, and the 'Likes' column is filled with random integers between 0 and 10000."
   ]
  },
  {
   "cell_type": "code",
   "execution_count": 7,
   "id": "927010d6-1897-4ee5-a973-b1a2bafd3c52",
   "metadata": {
    "tags": []
   },
   "outputs": [],
   "source": [
    "# Generate random data for the social media data\n",
    "categories = ['Food', 'Travel', 'Fashion', 'Fitness', 'Music', 'Culture', 'Family', 'Health']\n",
    "data = {'Date': pd.date_range('2021-01-01', periods=500),\n",
    "        'Category': [random.choice(categories) for _ in range(500)],\n",
    "        'Likes': np.random.randint(0, 10000, size=500)}"
   ]
  },
  {
   "cell_type": "markdown",
   "id": "bf5c7dc8-f4af-4584-8efa-ba0d11a4f799",
   "metadata": {},
   "source": [
    "**Step 3: Loading and Shuffling the Data**\n",
    "\n",
    "The third step is to load the generated data into a Pandas DataFrame and shuffle it to ensure that the data is randomly ordered. Here, we have used the pd.DataFrame() function to load the data into a Pandas DataFrame. We have then used the sample() function to shuffle the data and the reset_index() function to reset the index of the DataFrame after shuffling. Finally, we have used the pd.set_option() function to display all the rows of the DataFrame."
   ]
  },
  {
   "cell_type": "code",
   "execution_count": 8,
   "id": "dbc2e3ba-69ca-4e57-bab9-3c64ae64fa18",
   "metadata": {
    "tags": []
   },
   "outputs": [],
   "source": [
    "# Load the data into a Pandas DataFrame and shuffle it\n",
    "df = pd.DataFrame(data).sample(frac=1).reset_index(drop=True)\n",
    "pd.set_option('display.max_rows', None)"
   ]
  },
  {
   "cell_type": "markdown",
   "id": "6ed2a0f2-614e-4b86-b656-643c0d3e5ff0",
   "metadata": {},
   "source": [
    "**Step 4: Exploring the Data**\n",
    "\n",
    "The fourth step is to explore the data to get an understanding of its structure and quality. Here, we have used the head() function to display the first five rows of the DataFrame. We have used the info() function to display information about the DataFrame, including the data types of the columns and the number of non-null values. We have used the describe() function to display statistical information about the numerical columns in the DataFrame. Finally, we have used the value_counts() function to display the number of occurrences of each category in the 'Category' column."
   ]
  },
  {
   "cell_type": "code",
   "execution_count": 9,
   "id": "4a4e17c2-a02c-4e6d-afaf-e75594904e05",
   "metadata": {
    "tags": []
   },
   "outputs": [
    {
     "name": "stdout",
     "output_type": "stream",
     "text": [
      "        Date Category  Likes\n",
      "0 2022-04-16  Fitness    456\n",
      "1 2021-07-09  Culture   7637\n",
      "2 2022-03-12    Music   9030\n",
      "3 2021-12-11   Family   4954\n",
      "4 2021-09-01    Music   7674\n",
      "<class 'pandas.core.frame.DataFrame'>\n",
      "RangeIndex: 500 entries, 0 to 499\n",
      "Data columns (total 3 columns):\n",
      " #   Column    Non-Null Count  Dtype         \n",
      "---  ------    --------------  -----         \n",
      " 0   Date      500 non-null    datetime64[ns]\n",
      " 1   Category  500 non-null    object        \n",
      " 2   Likes     500 non-null    int32         \n",
      "dtypes: datetime64[ns](1), int32(1), object(1)\n",
      "memory usage: 9.9+ KB\n",
      "None\n",
      "             Likes\n",
      "count   500.000000\n",
      "mean   4966.632000\n",
      "std    2929.639595\n",
      "min      19.000000\n",
      "25%    2427.750000\n",
      "50%    4820.500000\n",
      "75%    7625.750000\n",
      "max    9985.000000\n",
      "Music      75\n",
      "Fitness    68\n",
      "Culture    65\n",
      "Family     65\n",
      "Health     64\n",
      "Fashion    60\n",
      "Travel     53\n",
      "Food       50\n",
      "Name: Category, dtype: int64\n"
     ]
    }
   ],
   "source": [
    "# Explore the data\n",
    "print(df.head())\n",
    "print(df.info())\n",
    "print(df.describe())\n",
    "print(df['Category'].value_counts())"
   ]
  },
  {
   "cell_type": "markdown",
   "id": "931cefb5-28b0-4fa6-9dae-61805e613302",
   "metadata": {},
   "source": [
    "**Step 5: Cleaning the Data**\n",
    "\n",
    "The fifth step is to clean the data by removing any missing values and duplicates and converting the data types to the appropriate formats. \n",
    "\n",
    "We use the dropna() function to remove any rows that contain missing values, and the drop_duplicates() function to remove any duplicate rows. We also convert the Date column to datetime format using the to_datetime() function, and the Likes column to integer format using the astype() function.\n"
   ]
  },
  {
   "cell_type": "code",
   "execution_count": 10,
   "id": "4b599bd3-d283-483f-85d1-2373c1aa62ed",
   "metadata": {
    "tags": []
   },
   "outputs": [],
   "source": [
    "# Clean the data\n",
    "df = df.dropna()\n",
    "df = df.drop_duplicates()\n",
    "df['Date'] = pd.to_datetime(df['Date'])\n",
    "df['Likes'] = df['Likes'].astype(int)\n"
   ]
  },
  {
   "cell_type": "markdown",
   "id": "875c46ba-78a2-466f-8c08-c66be2085e16",
   "metadata": {},
   "source": [
    "**Step 6: Visualizing the Data**\n",
    "\n",
    "Once the data is cleaned, we can visualize it to gain a better understanding of its distribution and relationships. In this project, we use two types of plots to visualize the social media data: a histogram to show the distribution of likes, and a box plot to show the distribution of likes by category."
   ]
  },
  {
   "cell_type": "code",
   "execution_count": 12,
   "id": "51ee2ef6-617f-4876-9997-263382eef37d",
   "metadata": {
    "tags": []
   },
   "outputs": [
    {
     "data": {
      "image/png": "[encoded data removed]",
      "text/plain": [
       "<Figure size 640x480 with 1 Axes>"
      ]
     },
     "metadata": {},
     "output_type": "display_data"
    },
    {
     "data": {
      "image/png": "[encoded data removed]",
      "text/plain": [
       "<Figure size 640x480 with 1 Axes>"
      ]
     },
     "metadata": {},
     "output_type": "display_data"
    }
   ],
   "source": [
    "# Visualize the data\n",
    "sns.histplot(df['Likes'])\n",
    "plt.show()\n",
    "sns.boxplot(x='Category', y='Likes', data=df)\n",
    "plt.show()"
   ]
  },
  {
   "cell_type": "markdown",
   "id": "01c7e059-9181-4098-99ae-7aba994761d6",
   "metadata": {},
   "source": [
    "**Step 7: Analyzing the Data**\n",
    "\n",
    "After visualizing the data, we can analyze it to gain insights and answer our research questions. In this project, we calculate the mean number of likes for all posts, and also calculate the mean number of likes for each category."
   ]
  },
  {
   "cell_type": "code",
   "execution_count": 13,
   "id": "237653ef-0574-4e4d-b32c-69bf6eefafda",
   "metadata": {
    "tags": []
   },
   "outputs": [
    {
     "name": "stdout",
     "output_type": "stream",
     "text": [
      "Mean Likes: 4966.63\n",
      "Category\n",
      "Culture    4413.830769\n",
      "Family     4871.507692\n",
      "Fashion    4499.483333\n",
      "Fitness    5442.382353\n",
      "Food       5405.060000\n",
      "Health     5412.984375\n",
      "Music      4917.360000\n",
      "Travel     4796.830189\n",
      "Name: Likes, dtype: float64\n"
     ]
    }
   ],
   "source": [
    "# Analyze the data\n",
    "mean_likes = df['Likes'].mean()\n",
    "print(f\"Mean Likes: {mean_likes:.2f}\")\n",
    "\n",
    "category_likes = df.groupby('Category')['Likes'].mean()\n",
    "print(category_likes)\n"
   ]
  },
  {
   "cell_type": "markdown",
   "id": "8a1358e9-f336-4076-bffa-54157bd8a47b",
   "metadata": {},
   "source": [
    "**Step 8: Communicating the Insights**\n",
    "\n",
    "The final step is to communicate the insights gained from analyzing the data. This can be done through various means such as creating a report or presentation, or writing a summary of the findings. In this project, we would communicate the insights gained about the social media data, such as which categories received the most likes on average, and any other trends or patterns observed in the data."
   ]
  },
  {
   "cell_type": "code",
   "execution_count": 14,
   "id": "bfabcc66-e62f-4ac3-beb8-f17e31f06148",
   "metadata": {
    "tags": []
   },
   "outputs": [],
   "source": [
    "# Communicate the insights\n",
    "# Create a Jupyter Notebook or report to communicate your findings"
   ]
  },
  {
   "cell_type": "code",
   "execution_count": null,
   "id": "5bf31682-2e82-4ee9-b8b9-5f7c829c91b0",
   "metadata": {},
   "outputs": [],
   "source": []
  }
 ],
 "metadata": {
  "kernelspec": {
   "display_name": "Python 3 (ipykernel)",
   "language": "python",
   "name": "python3"
  },
  "language_info": {
   "codemirror_mode": {
    "name": "ipython",
    "version": 3
   },
   "file_extension": ".py",
   "mimetype": "text/x-python",
   "name": "python",
   "nbconvert_exporter": "python",
   "pygments_lexer": "ipython3",
   "version": "3.11.0"
  }
 },
 "nbformat": 4,
 "nbformat_minor": 5
}
